{
 "cells": [
  {
   "cell_type": "code",
   "execution_count": 2,
   "metadata": {},
   "outputs": [
    {
     "name": "stdout",
     "output_type": "stream",
     "text": [
      "579\n"
     ]
    }
   ],
   "source": [
    "n=123\n",
    "m = 456\n",
    "result = input(f\"請輸入 {n} + {m} 的數值:\")\n",
    "print(result)\n"
   ]
  },
  {
   "cell_type": "code",
   "execution_count": 5,
   "metadata": {},
   "outputs": [
    {
     "name": "stdout",
     "output_type": "stream",
     "text": [
      "12\n"
     ]
    }
   ],
   "source": [
    "n = 87.9\n",
    "m = 45\n",
    "a = 87.5\n",
    "result = input(f\"請輸入 {n} + {m} + {a} 的數值:\")\n",
    "print(result)"
   ]
  },
  {
   "attachments": {},
   "cell_type": "markdown",
   "metadata": {},
   "source": [
    "n = float(input(\"請輸入第1個的數值:\")\n"
   ]
  },
  {
   "cell_type": "code",
   "execution_count": 9,
   "metadata": {},
   "outputs": [
    {
     "name": "stdout",
     "output_type": "stream",
     "text": [
      "總和為 = 100.0\n"
     ]
    }
   ],
   "source": [
    "result = 0\n",
    "n = float(input(\"請輸入第1個數:\"))\n",
    "result += n\n",
    "n = float(input(\"請輸入第2個數:\"))\n",
    "result += n\n",
    "n = float(input(\"請輸入第3個數:\"))\n",
    "result += n\n",
    "\n",
    "print(f\"總和為 = {result}\")\n",
    "\n"
   ]
  },
  {
   "cell_type": "code",
   "execution_count": 12,
   "metadata": {},
   "outputs": [
    {
     "name": "stdout",
     "output_type": "stream",
     "text": [
      "總合為 = 4.0\n"
     ]
    }
   ],
   "source": [
    "result = 0\n",
    "n = float(input(\"請輸入梯形的上底(公分):\"))\n",
    "result += n\n",
    "n = float(input(\"請輸入梯形的下底(公分)\"))\n",
    "result += n\n",
    "n = float(input(\"請輸入梯形的高(公分)\"))\n",
    "result *= n/2\n",
    "\n",
    "print(f\"總合為 = {result}\")"
   ]
  }
 ],
 "metadata": {
  "kernelspec": {
   "display_name": "Python 3",
   "language": "python",
   "name": "python3"
  },
  "language_info": {
   "codemirror_mode": {
    "name": "ipython",
    "version": 3
   },
   "file_extension": ".py",
   "mimetype": "text/x-python",
   "name": "python",
   "nbconvert_exporter": "python",
   "pygments_lexer": "ipython3",
   "version": "3.10.4"
  },
  "orig_nbformat": 4
 },
 "nbformat": 4,
 "nbformat_minor": 2
}
